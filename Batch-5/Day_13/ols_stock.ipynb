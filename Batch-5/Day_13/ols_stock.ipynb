{
 "cells": [
  {
   "cell_type": "code",
   "execution_count": 1,
   "metadata": {
    "collapsed": false,
    "scrolled": false
   },
   "outputs": [
    {
     "name": "stdout",
     "output_type": "stream",
     "text": [
      "                            OLS Regression Results                            \n",
      "==============================================================================\n",
      "Dep. Variable:                      y   R-squared:                       0.078\n",
      "Model:                            OLS   Adj. R-squared:                  0.017\n",
      "Method:                 Least Squares   F-statistic:                     1.277\n",
      "Date:                Sun, 04 Feb 2018   Prob (F-statistic):              0.294\n",
      "Time:                        19:47:45   Log-Likelihood:                -228.45\n",
      "No. Observations:                  49   AIC:                             464.9\n",
      "Df Residuals:                      45   BIC:                             472.5\n",
      "Df Model:                           3                                         \n",
      "Covariance Type:            nonrobust                                         \n",
      "==============================================================================\n",
      "                 coef    std err          t      P>|t|      [95.0% Conf. Int.]\n",
      "------------------------------------------------------------------------------\n",
      "const          3.5733      8.284      0.431      0.668       -13.112    20.259\n",
      "x1             3.1439      3.068      1.025      0.311        -3.034     9.322\n",
      "x2            -0.3646      0.255     -1.429      0.160        -0.878     0.149\n",
      "x3             4.0564      8.698      0.466      0.643       -13.462    21.575\n",
      "==============================================================================\n",
      "Omnibus:                       99.858   Durbin-Watson:                   1.855\n",
      "Prob(Omnibus):                  0.000   Jarque-Bera (JB):             2938.634\n",
      "Skew:                           5.817   Prob(JB):                         0.00\n",
      "Kurtosis:                      39.110   Cond. No.                         72.0\n",
      "==============================================================================\n",
      "\n",
      "Warnings:\n",
      "[1] Standard Errors assume that the covariance matrix of the errors is correctly specified.\n"
     ]
    }
   ],
   "source": [
    "import numpy as np\n",
    "import statsmodels.api as sm\n",
    "import statsmodels.formula.api as smf\n",
    "import pandas as pd\n",
    "import os;\n",
    "path=\"C:/Users/michaeljgrogan/Documents/a_documents/computing/data science/datasets\"\n",
    "os.chdir(path)\n",
    "os.getcwd()\n",
    "\n",
    "variables = pd.read_csv('ols_stock2.csv')\n",
    "stock_return = variables['stock_return']\n",
    "dividend = variables['dividend']\n",
    "earnings = variables['earnings']\n",
    "debt_to_equity = variables['debt_to_equity']\n",
    "marketcap = variables['marketcap']\n",
    "stock_return_scaled = (stock_return/earnings)*1\n",
    "\n",
    "x = np.column_stack((dividend,earnings,debt_to_equity))\n",
    "x = sm.add_constant(x, prepend=True)\n",
    "\n",
    "results = smf.OLS(stock_return_scaled,x).fit()\n",
    "print(results.summary())"
   ]
  },
  {
   "cell_type": "code",
   "execution_count": 2,
   "metadata": {
    "collapsed": false
   },
   "outputs": [
    {
     "data": {
      "text/html": [
       "<div>\n",
       "<table border=\"1\" class=\"dataframe\">\n",
       "  <thead>\n",
       "    <tr style=\"text-align: right;\">\n",
       "      <th></th>\n",
       "      <th>0</th>\n",
       "    </tr>\n",
       "  </thead>\n",
       "  <tbody>\n",
       "    <tr>\n",
       "      <th>4.819709</th>\n",
       "      <td>Lagrange multiplier statistic</td>\n",
       "    </tr>\n",
       "    <tr>\n",
       "      <th>0.185485</th>\n",
       "      <td>p-value</td>\n",
       "    </tr>\n",
       "    <tr>\n",
       "      <th>1.636378</th>\n",
       "      <td>f-value</td>\n",
       "    </tr>\n",
       "    <tr>\n",
       "      <th>0.194288</th>\n",
       "      <td>f p-value</td>\n",
       "    </tr>\n",
       "  </tbody>\n",
       "</table>\n",
       "</div>"
      ],
      "text/plain": [
       "                                      0\n",
       "4.819709  Lagrange multiplier statistic\n",
       "0.185485                        p-value\n",
       "1.636378                        f-value\n",
       "0.194288                      f p-value"
      ]
     },
     "execution_count": 2,
     "metadata": {},
     "output_type": "execute_result"
    }
   ],
   "source": [
    "import statsmodels\n",
    "\n",
    "name = ['Lagrange multiplier statistic', 'p-value', \n",
    "        'f-value', 'f p-value']\n",
    "test = statsmodels.stats.diagnostic.het_breushpagan(results.resid, results.model.exog)\n",
    "test\n",
    "pd.DataFrame(name,test)"
   ]
  },
  {
   "cell_type": "code",
   "execution_count": 3,
   "metadata": {
    "collapsed": true
   },
   "outputs": [],
   "source": [
    "z = np.column_stack((earnings,debt_to_equity))\n",
    "z = sm.add_constant(z, prepend=True)"
   ]
  },
  {
   "cell_type": "code",
   "execution_count": 4,
   "metadata": {
    "collapsed": false
   },
   "outputs": [
    {
     "name": "stdout",
     "output_type": "stream",
     "text": [
      "[1.4123799  0.80205882 1.75666988 1.01090723 0.82405272 0.64045826\n",
      " 0.84057666 0.95117112 1.5497626  1.15479167 1.91071159 1.37237007\n",
      " 1.43715529 0.88061614 1.39542109 1.85430589 1.41448576 0.70589806\n",
      " 0.81835197 0.80485863 1.22979752 0.33251986 0.61965949 0.83062212\n",
      " 2.73064269 2.11346374 1.93678484 2.41073666 2.5167635  1.74698844\n",
      " 2.28012609 2.46430613 2.67867224 1.60056892 1.62667022 2.24854215\n",
      " 2.39718562 1.50541594 2.43567246 1.4987298  2.42593739 2.35805416\n",
      " 2.47664665 2.75157948 1.855456   1.51897264 2.20297071 1.73743642\n",
      " 2.38638372]\n"
     ]
    }
   ],
   "source": [
    "from sklearn.metrics import r2_score\n",
    "from sklearn import linear_model\n",
    "lm = linear_model.LinearRegression()\n",
    "model = lm.fit(z,dividend)\n",
    "predictions = lm.predict(z)\n",
    "print(predictions)"
   ]
  },
  {
   "cell_type": "code",
   "execution_count": 5,
   "metadata": {
    "collapsed": false
   },
   "outputs": [
    {
     "data": {
      "text/plain": [
       "0.22144445579446814"
      ]
     },
     "execution_count": 5,
     "metadata": {},
     "output_type": "execute_result"
    }
   ],
   "source": [
    "rsquareddividend=r2_score(dividend, predictions)\n",
    "rsquareddividend"
   ]
  },
  {
   "cell_type": "code",
   "execution_count": 6,
   "metadata": {
    "collapsed": false
   },
   "outputs": [
    {
     "name": "stdout",
     "output_type": "stream",
     "text": [
      "[ 2.30000000e+00  2.10000000e+00  7.10000000e-01  8.40000000e-01\n",
      "  9.70000000e-01  8.70000000e-01  2.00000000e-01  1.70000000e-01\n",
      "  8.40000000e-01  6.60000000e-01  6.10000000e-01  3.50000000e+00\n",
      "  5.10000000e-01  4.50000000e-01  9.10000000e-01  9.20000000e-01\n",
      "  2.20000000e-01  3.90000000e-01  1.70000000e-01  8.80000000e-01\n",
      "  9.40000000e-01  8.21911983e-17  7.90000000e-01  5.70000000e-01\n",
      "  5.00000000e-01  1.63494218e-15  2.10048191e+00  3.29464001e+00\n",
      "  1.93050437e-15  4.55236098e+00  3.83055616e+00  3.20461618e+00\n",
      "  4.62867645e+00  6.50000000e-01  3.87624958e+00  3.15073197e+00\n",
      " -1.07327341e-15  2.63434090e+00  7.80000000e-01  2.60966605e+00\n",
      "  4.21410263e+00  2.33055102e+00  2.61442520e+00  3.45000000e+00\n",
      "  2.50569241e+00  2.81196204e+00  3.63224222e+00  2.28841252e-15\n",
      "  2.56301326e+00]\n"
     ]
    }
   ],
   "source": [
    "lm2 = linear_model.LinearRegression()\n",
    "model = lm2.fit(x,dividend)\n",
    "predictions = lm2.predict(x)\n",
    "print(predictions)"
   ]
  },
  {
   "cell_type": "code",
   "execution_count": 7,
   "metadata": {
    "collapsed": false
   },
   "outputs": [
    {
     "data": {
      "text/plain": [
       "-3.3306690738754696e-15"
      ]
     },
     "execution_count": 7,
     "metadata": {},
     "output_type": "execute_result"
    }
   ],
   "source": [
    "lm2.intercept_"
   ]
  },
  {
   "cell_type": "code",
   "execution_count": 8,
   "metadata": {
    "collapsed": false
   },
   "outputs": [
    {
     "data": {
      "text/plain": [
       "array([0.00000000e+00, 1.00000000e+00, 1.11022302e-16, 7.52869989e-16])"
      ]
     },
     "execution_count": 8,
     "metadata": {},
     "output_type": "execute_result"
    }
   ],
   "source": [
    "lm2.coef_"
   ]
  },
  {
   "cell_type": "code",
   "execution_count": 9,
   "metadata": {
    "collapsed": false
   },
   "outputs": [],
   "source": [
    "#VIF Calculation\n",
    "vifdividend=1/(1-(rsquareddividend*lm2.coef_[1]))"
   ]
  },
  {
   "cell_type": "code",
   "execution_count": 10,
   "metadata": {
    "collapsed": false
   },
   "outputs": [
    {
     "data": {
      "text/plain": [
       "1.2844298745832432"
      ]
     },
     "execution_count": 10,
     "metadata": {},
     "output_type": "execute_result"
    }
   ],
   "source": [
    "vifdividend"
   ]
  },
  {
   "cell_type": "code",
   "execution_count": null,
   "metadata": {
    "collapsed": false,
    "scrolled": true
   },
   "outputs": [],
   "source": []
  },
  {
   "cell_type": "code",
   "execution_count": null,
   "metadata": {
    "collapsed": false
   },
   "outputs": [],
   "source": []
  },
  {
   "cell_type": "code",
   "execution_count": null,
   "metadata": {
    "collapsed": false
   },
   "outputs": [],
   "source": []
  },
  {
   "cell_type": "code",
   "execution_count": null,
   "metadata": {
    "collapsed": true
   },
   "outputs": [],
   "source": []
  }
 ],
 "metadata": {
  "kernelspec": {
   "display_name": "Python 3",
   "language": "python",
   "name": "python3"
  },
  "language_info": {
   "codemirror_mode": {
    "name": "ipython",
    "version": 3
   },
   "file_extension": ".py",
   "mimetype": "text/x-python",
   "name": "python",
   "nbconvert_exporter": "python",
   "pygments_lexer": "ipython3",
   "version": "3.6.0"
  }
 },
 "nbformat": 4,
 "nbformat_minor": 2
}